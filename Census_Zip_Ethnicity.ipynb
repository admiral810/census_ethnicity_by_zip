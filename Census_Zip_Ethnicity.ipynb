{
 "cells": [
  {
   "cell_type": "code",
   "execution_count": 25,
   "metadata": {
    "ExecuteTime": {
     "end_time": "2021-12-26T04:59:56.261628Z",
     "start_time": "2021-12-26T04:59:56.255621Z"
    }
   },
   "outputs": [],
   "source": [
    "# Dependencies\n",
    "import numpy as np\n",
    "import pandas as pd\n",
    "import requests\n",
    "from census import Census\n",
    "\n",
    "# Census API Key\n",
    "from config import api_key\n",
    "c = Census(api_key, year=2019)"
   ]
  },
  {
   "cell_type": "code",
   "execution_count": 26,
   "metadata": {
    "ExecuteTime": {
     "end_time": "2021-12-26T05:00:02.864846Z",
     "start_time": "2021-12-26T04:59:56.609592Z"
    }
   },
   "outputs": [],
   "source": [
    "# Run Census Search to retrieve data on all zip codes (ACS5 Census)\n",
    "# See: https://github.com/CommerceDataService/census-wrapper for library documentation\n",
    "# See: https://gist.github.com/afhaque/60558290d6efd892351c4b64e5c01e9b for labels\n",
    "census_data = c.acs5.get((\"NAME\"\n",
    "                          , \"B01002_001E\" #Median Age\n",
    "                          , \"B01003_001E\" #Population\n",
    "                          , \"B02001_002E\" #White\n",
    "                          , \"B02001_003E\" #Black\n",
    "                          , \"B02001_004E\" #American Indian\n",
    "                          , \"B02001_005E\" #Asian\n",
    "                          , \"B02001_006E\" #Native Hawaaiian\n",
    "                          , \"B02001_008E\" #Two or more races\n",
    "                          , \"B03001_003E\" #Hispanic origin\n",
    "                         )\n",
    "                         , {'for': 'zip code tabulation area:*'})\n",
    "\n",
    "# Convert to DataFrame\n",
    "census_pd = pd.DataFrame(census_data)\n"
   ]
  },
  {
   "cell_type": "code",
   "execution_count": 27,
   "metadata": {
    "ExecuteTime": {
     "end_time": "2021-12-26T05:00:03.241120Z",
     "start_time": "2021-12-26T05:00:03.180316Z"
    }
   },
   "outputs": [
    {
     "name": "stdout",
     "output_type": "stream",
     "text": [
      "33120\n"
     ]
    },
    {
     "data": {
      "text/html": [
       "<div>\n",
       "<style scoped>\n",
       "    .dataframe tbody tr th:only-of-type {\n",
       "        vertical-align: middle;\n",
       "    }\n",
       "\n",
       "    .dataframe tbody tr th {\n",
       "        vertical-align: top;\n",
       "    }\n",
       "\n",
       "    .dataframe thead th {\n",
       "        text-align: right;\n",
       "    }\n",
       "</style>\n",
       "<table border=\"1\" class=\"dataframe\">\n",
       "  <thead>\n",
       "    <tr style=\"text-align: right;\">\n",
       "      <th></th>\n",
       "      <th>Zipcode</th>\n",
       "      <th>Median Age</th>\n",
       "      <th>Population</th>\n",
       "      <th>Asian</th>\n",
       "      <th>Black</th>\n",
       "      <th>Hispanic</th>\n",
       "      <th>White</th>\n",
       "      <th>American Indian</th>\n",
       "      <th>Native Hawaaiian</th>\n",
       "      <th>Two or more races</th>\n",
       "    </tr>\n",
       "  </thead>\n",
       "  <tbody>\n",
       "    <tr>\n",
       "      <td>0</td>\n",
       "      <td>25245</td>\n",
       "      <td>54.8</td>\n",
       "      <td>600.0</td>\n",
       "      <td>0.0</td>\n",
       "      <td>0.0</td>\n",
       "      <td>0.0</td>\n",
       "      <td>600.0</td>\n",
       "      <td>0.0</td>\n",
       "      <td>0.0</td>\n",
       "      <td>0.0</td>\n",
       "    </tr>\n",
       "    <tr>\n",
       "      <td>1</td>\n",
       "      <td>25268</td>\n",
       "      <td>58.1</td>\n",
       "      <td>964.0</td>\n",
       "      <td>0.0</td>\n",
       "      <td>0.0</td>\n",
       "      <td>0.0</td>\n",
       "      <td>957.0</td>\n",
       "      <td>0.0</td>\n",
       "      <td>0.0</td>\n",
       "      <td>7.0</td>\n",
       "    </tr>\n",
       "    <tr>\n",
       "      <td>2</td>\n",
       "      <td>25286</td>\n",
       "      <td>42.8</td>\n",
       "      <td>1700.0</td>\n",
       "      <td>0.0</td>\n",
       "      <td>0.0</td>\n",
       "      <td>5.0</td>\n",
       "      <td>1603.0</td>\n",
       "      <td>0.0</td>\n",
       "      <td>0.0</td>\n",
       "      <td>97.0</td>\n",
       "    </tr>\n",
       "    <tr>\n",
       "      <td>3</td>\n",
       "      <td>25303</td>\n",
       "      <td>38.8</td>\n",
       "      <td>6764.0</td>\n",
       "      <td>229.0</td>\n",
       "      <td>624.0</td>\n",
       "      <td>89.0</td>\n",
       "      <td>5682.0</td>\n",
       "      <td>95.0</td>\n",
       "      <td>0.0</td>\n",
       "      <td>122.0</td>\n",
       "    </tr>\n",
       "    <tr>\n",
       "      <td>4</td>\n",
       "      <td>25311</td>\n",
       "      <td>40.0</td>\n",
       "      <td>10964.0</td>\n",
       "      <td>88.0</td>\n",
       "      <td>1684.0</td>\n",
       "      <td>163.0</td>\n",
       "      <td>8457.0</td>\n",
       "      <td>48.0</td>\n",
       "      <td>0.0</td>\n",
       "      <td>676.0</td>\n",
       "    </tr>\n",
       "  </tbody>\n",
       "</table>\n",
       "</div>"
      ],
      "text/plain": [
       "  Zipcode  Median Age  Population  Asian   Black  Hispanic   White  \\\n",
       "0   25245        54.8       600.0    0.0     0.0       0.0   600.0   \n",
       "1   25268        58.1       964.0    0.0     0.0       0.0   957.0   \n",
       "2   25286        42.8      1700.0    0.0     0.0       5.0  1603.0   \n",
       "3   25303        38.8      6764.0  229.0   624.0      89.0  5682.0   \n",
       "4   25311        40.0     10964.0   88.0  1684.0     163.0  8457.0   \n",
       "\n",
       "   American Indian  Native Hawaaiian  Two or more races  \n",
       "0              0.0               0.0                0.0  \n",
       "1              0.0               0.0                7.0  \n",
       "2              0.0               0.0               97.0  \n",
       "3             95.0               0.0              122.0  \n",
       "4             48.0               0.0              676.0  "
      ]
     },
     "execution_count": 27,
     "metadata": {},
     "output_type": "execute_result"
    }
   ],
   "source": [
    "# Column Renaming\n",
    "census_pd = census_pd.rename(columns={\"B01002_001E\": \"Median Age\",\n",
    "                                      \"B01003_001E\": \"Population\",\n",
    "                                      \"B02001_002E\": \"White\",\n",
    "                                      \"B02001_003E\": \"Black\",\n",
    "                                      \"B02001_004E\": \"American Indian\",\n",
    "                                      \"B02001_005E\": \"Asian\",\n",
    "                                      \"B02001_006E\": \"Native Hawaaiian\",\n",
    "                                      \"B02001_008E\": \"Two or more races\",\n",
    "                                      \"B03001_003E\": \"Hispanic\",\n",
    "                                      \"NAME\": \"Name\", \"zip code tabulation area\": \"Zipcode\"})\n",
    "\n",
    "\n",
    "# Column Reordering\n",
    "census_pd = census_pd[[\"Zipcode\", \"Median Age\", \"Population\", \"Asian\", \"Black\", \n",
    "                       \"Hispanic\", \"White\", \"American Indian\", \"Native Hawaaiian\", \"Two or more races\"\n",
    "                       ]]\n",
    "\n",
    "\n",
    "print(len(census_pd))\n",
    "census_pd.head()"
   ]
  },
  {
   "cell_type": "code",
   "execution_count": 28,
   "metadata": {
    "ExecuteTime": {
     "end_time": "2021-12-26T05:00:52.259200Z",
     "start_time": "2021-12-26T05:00:51.981883Z"
    }
   },
   "outputs": [],
   "source": [
    "# Save as a csv\n",
    "census_pd.to_csv(\"census_ethnicity_data.csv\", encoding=\"utf-8\", index=False)"
   ]
  },
  {
   "cell_type": "code",
   "execution_count": null,
   "metadata": {},
   "outputs": [],
   "source": []
  }
 ],
 "metadata": {
  "anaconda-cloud": {},
  "kernelspec": {
   "display_name": "Python 3",
   "language": "python",
   "name": "python3"
  },
  "language_info": {
   "codemirror_mode": {
    "name": "ipython",
    "version": 3
   },
   "file_extension": ".py",
   "mimetype": "text/x-python",
   "name": "python",
   "nbconvert_exporter": "python",
   "pygments_lexer": "ipython3",
   "version": "3.7.4"
  },
  "latex_envs": {
   "LaTeX_envs_menu_present": true,
   "autoclose": false,
   "autocomplete": true,
   "bibliofile": "biblio.bib",
   "cite_by": "apalike",
   "current_citInitial": 1,
   "eqLabelWithNumbers": true,
   "eqNumInitial": 1,
   "hotkeys": {
    "equation": "Ctrl-E",
    "itemize": "Ctrl-I"
   },
   "labels_anchors": false,
   "latex_user_defs": false,
   "report_style_numbering": false,
   "user_envs_cfg": false
  },
  "toc": {
   "base_numbering": 1,
   "nav_menu": {},
   "number_sections": true,
   "sideBar": true,
   "skip_h1_title": true,
   "title_cell": "Table of Contents",
   "title_sidebar": "Contents",
   "toc_cell": false,
   "toc_position": {},
   "toc_section_display": true,
   "toc_window_display": false
  },
  "varInspector": {
   "cols": {
    "lenName": 16,
    "lenType": 16,
    "lenVar": 40
   },
   "kernels_config": {
    "python": {
     "delete_cmd_postfix": "",
     "delete_cmd_prefix": "del ",
     "library": "var_list.py",
     "varRefreshCmd": "print(var_dic_list())"
    },
    "r": {
     "delete_cmd_postfix": ") ",
     "delete_cmd_prefix": "rm(",
     "library": "var_list.r",
     "varRefreshCmd": "cat(var_dic_list()) "
    }
   },
   "types_to_exclude": [
    "module",
    "function",
    "builtin_function_or_method",
    "instance",
    "_Feature"
   ],
   "window_display": false
  }
 },
 "nbformat": 4,
 "nbformat_minor": 1
}
